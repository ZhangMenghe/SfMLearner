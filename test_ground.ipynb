{
 "cells": [
  {
   "cell_type": "code",
   "execution_count": 1,
   "metadata": {},
   "outputs": [],
   "source": [
    "import numpy as np\n",
    "import tensorflow as tf"
   ]
  },
  {
   "cell_type": "code",
   "execution_count": 2,
   "metadata": {},
   "outputs": [],
   "source": [
    "from nets import *"
   ]
  },
  {
   "cell_type": "code",
   "execution_count": 3,
   "metadata": {},
   "outputs": [],
   "source": [
    "a = tf.convert_to_tensor(np.zeros([10, 416, 128, 3]))\n",
    "disp_net(a)"
   ]
  },
  {
   "cell_type": "code",
   "execution_count": 4,
   "metadata": {},
   "outputs": [
    {
     "data": {
      "text/plain": [
       "([<tf.Tensor 'normal_net/norm1/Sigmoid:0' shape=(10, 208, 64, 3) dtype=float64>,\n",
       "  <tf.Tensor 'normal_net/norm2/Sigmoid:0' shape=(10, 208, 64, 3) dtype=float64>,\n",
       "  <tf.Tensor 'normal_net/norm3/Sigmoid:0' shape=(10, 104, 32, 3) dtype=float64>,\n",
       "  <tf.Tensor 'normal_net/norm4/Sigmoid:0' shape=(10, 52, 16, 3) dtype=float64>],\n",
       " OrderedDict([('normal_net/upcnv7',\n",
       "               <tf.Tensor 'normal_net/upcnv7/Relu:0' shape=(10, 8, 2, 512) dtype=float64>),\n",
       "              ('normal_net/icnv7',\n",
       "               <tf.Tensor 'normal_net/icnv7/Relu:0' shape=(10, 7, 2, 512) dtype=float64>),\n",
       "              ('normal_net/upcnv6',\n",
       "               <tf.Tensor 'normal_net/upcnv6/Relu:0' shape=(10, 14, 4, 512) dtype=float64>),\n",
       "              ('normal_net/icnv6',\n",
       "               <tf.Tensor 'normal_net/icnv6/Relu:0' shape=(10, 13, 4, 512) dtype=float64>),\n",
       "              ('normal_net/upcnv5',\n",
       "               <tf.Tensor 'normal_net/upcnv5/Relu:0' shape=(10, 26, 8, 256) dtype=float64>),\n",
       "              ('normal_net/icnv5',\n",
       "               <tf.Tensor 'normal_net/icnv5/Relu:0' shape=(10, 26, 8, 256) dtype=float64>),\n",
       "              ('normal_net/upcnv4',\n",
       "               <tf.Tensor 'normal_net/upcnv4/Relu:0' shape=(10, 52, 16, 128) dtype=float64>),\n",
       "              ('normal_net/icnv4',\n",
       "               <tf.Tensor 'normal_net/icnv4/Relu:0' shape=(10, 52, 16, 128) dtype=float64>),\n",
       "              ('normal_net/norm4',\n",
       "               <tf.Tensor 'normal_net/norm4/Sigmoid:0' shape=(10, 52, 16, 3) dtype=float64>),\n",
       "              ('normal_net/upcnv3',\n",
       "               <tf.Tensor 'normal_net/upcnv3/Relu:0' shape=(10, 104, 32, 64) dtype=float64>),\n",
       "              ('normal_net/icnv3',\n",
       "               <tf.Tensor 'normal_net/icnv3/Relu:0' shape=(10, 104, 32, 64) dtype=float64>),\n",
       "              ('normal_net/norm3',\n",
       "               <tf.Tensor 'normal_net/norm3/Sigmoid:0' shape=(10, 104, 32, 3) dtype=float64>),\n",
       "              ('normal_net/upcnv2',\n",
       "               <tf.Tensor 'normal_net/upcnv2/Relu:0' shape=(10, 208, 64, 32) dtype=float64>),\n",
       "              ('normal_net/icnv2',\n",
       "               <tf.Tensor 'normal_net/icnv2/Relu:0' shape=(10, 208, 64, 32) dtype=float64>),\n",
       "              ('normal_net/norm2',\n",
       "               <tf.Tensor 'normal_net/norm2/Sigmoid:0' shape=(10, 208, 64, 3) dtype=float64>),\n",
       "              ('normal_net/upcnv1',\n",
       "               <tf.Tensor 'normal_net/upcnv1/Relu:0' shape=(10, 416, 128, 16) dtype=float64>),\n",
       "              ('normal_net/icnv1',\n",
       "               <tf.Tensor 'normal_net/icnv1/Relu:0' shape=(10, 416, 128, 16) dtype=float64>),\n",
       "              ('normal_net/norm1',\n",
       "               <tf.Tensor 'normal_net/norm1/Sigmoid:0' shape=(10, 208, 64, 3) dtype=float64>)]))"
      ]
     },
     "execution_count": 4,
     "metadata": {},
     "output_type": "execute_result"
    }
   ],
   "source": [
    "normal_net(a)"
   ]
  },
  {
   "cell_type": "code",
   "execution_count": null,
   "metadata": {},
   "outputs": [],
   "source": []
  }
 ],
 "metadata": {
  "kernelspec": {
   "display_name": "Python 3",
   "language": "python",
   "name": "python3"
  },
  "language_info": {
   "codemirror_mode": {
    "name": "ipython",
    "version": 3
   },
   "file_extension": ".py",
   "mimetype": "text/x-python",
   "name": "python",
   "nbconvert_exporter": "python",
   "pygments_lexer": "ipython3",
   "version": "3.5.2"
  }
 },
 "nbformat": 4,
 "nbformat_minor": 2
}
